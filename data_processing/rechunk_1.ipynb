{
 "cells": [
  {
   "cell_type": "code",
   "execution_count": 1,
   "id": "236bbebc-6ae0-411c-affe-363989cd877e",
   "metadata": {},
   "outputs": [],
   "source": [
    "import os\n",
    "import sys\n",
    "import shutil\n",
    "import warnings\n",
    "import json\n",
    "from datetime import datetime\n",
    "from itertools import product\n",
    "import numpy as np\n",
    "import xarray as xr\n",
    "from rechunker import rechunk\n",
    "import dask\n",
    "from dask_jobqueue import PBSCluster\n",
    "from dask.distributed import Client\n",
    "\n",
    "import src\n",
    "from src import utils\n",
    "from src.data import loading\n",
    "from src.attrs import PATHS, GLOBALS\n",
    "\n",
    "VARIABLES = ['PSL', 'UBOT', 'VBOT']\n",
    "START_TIME = datetime.now()"
   ]
  },
  {
   "cell_type": "code",
   "execution_count": 2,
   "id": "7cb9a9a7-6ce2-465c-a7a9-9674c48251ec",
   "metadata": {},
   "outputs": [],
   "source": [
    "# Dask stuff\n",
    "cluster = PBSCluster(walltime='06:00:00')\n",
    "client = Client(cluster)\n",
    "cluster.scale(8)"
   ]
  },
  {
   "cell_type": "code",
   "execution_count": 5,
   "id": "eaba4d53-e4c3-4cc4-8540-dc297ab27ab9",
   "metadata": {},
   "outputs": [
    {
     "data": {
      "text/html": [
       "<div>\n",
       "    <div style=\"width: 24px; height: 24px; background-color: #e1e1e1; border: 3px solid #9D9D9D; border-radius: 5px; position: absolute;\"> </div>\n",
       "    <div style=\"margin-left: 48px;\">\n",
       "        <h3 style=\"margin-bottom: 0px;\">Client</h3>\n",
       "        <p style=\"color: #9D9D9D; margin-bottom: 0px;\">Client-ce223bc7-c963-11ee-ad94-3cecef1b11fa</p>\n",
       "        <table style=\"width: 100%; text-align: left;\">\n",
       "\n",
       "        <tr>\n",
       "        \n",
       "            <td style=\"text-align: left;\"><strong>Connection method:</strong> Cluster object</td>\n",
       "            <td style=\"text-align: left;\"><strong>Cluster type:</strong> dask_jobqueue.PBSCluster</td>\n",
       "        \n",
       "        </tr>\n",
       "\n",
       "        \n",
       "            <tr>\n",
       "                <td style=\"text-align: left;\">\n",
       "                    <strong>Dashboard: </strong> <a href=\"https://jupyterhub.hpc.ucar.edu/stable/user/abrettin/proxy/8787/status\" target=\"_blank\">https://jupyterhub.hpc.ucar.edu/stable/user/abrettin/proxy/8787/status</a>\n",
       "                </td>\n",
       "                <td style=\"text-align: left;\"></td>\n",
       "            </tr>\n",
       "        \n",
       "\n",
       "        </table>\n",
       "\n",
       "        \n",
       "\n",
       "        \n",
       "            <details>\n",
       "            <summary style=\"margin-bottom: 20px;\"><h3 style=\"display: inline;\">Cluster Info</h3></summary>\n",
       "            <div class=\"jp-RenderedHTMLCommon jp-RenderedHTML jp-mod-trusted jp-OutputArea-output\">\n",
       "    <div style=\"width: 24px; height: 24px; background-color: #e1e1e1; border: 3px solid #9D9D9D; border-radius: 5px; position: absolute;\">\n",
       "    </div>\n",
       "    <div style=\"margin-left: 48px;\">\n",
       "        <h3 style=\"margin-bottom: 0px; margin-top: 0px;\">PBSCluster</h3>\n",
       "        <p style=\"color: #9D9D9D; margin-bottom: 0px;\">57b399c9</p>\n",
       "        <table style=\"width: 100%; text-align: left;\">\n",
       "            <tr>\n",
       "                <td style=\"text-align: left;\">\n",
       "                    <strong>Dashboard:</strong> <a href=\"https://jupyterhub.hpc.ucar.edu/stable/user/abrettin/proxy/8787/status\" target=\"_blank\">https://jupyterhub.hpc.ucar.edu/stable/user/abrettin/proxy/8787/status</a>\n",
       "                </td>\n",
       "                <td style=\"text-align: left;\">\n",
       "                    <strong>Workers:</strong> 4\n",
       "                </td>\n",
       "            </tr>\n",
       "            <tr>\n",
       "                <td style=\"text-align: left;\">\n",
       "                    <strong>Total threads:</strong> 8\n",
       "                </td>\n",
       "                <td style=\"text-align: left;\">\n",
       "                    <strong>Total memory:</strong> 93.12 GiB\n",
       "                </td>\n",
       "            </tr>\n",
       "            \n",
       "        </table>\n",
       "\n",
       "        <details>\n",
       "            <summary style=\"margin-bottom: 20px;\">\n",
       "                <h3 style=\"display: inline;\">Scheduler Info</h3>\n",
       "            </summary>\n",
       "\n",
       "            <div style=\"\">\n",
       "    <div>\n",
       "        <div style=\"width: 24px; height: 24px; background-color: #FFF7E5; border: 3px solid #FF6132; border-radius: 5px; position: absolute;\"> </div>\n",
       "        <div style=\"margin-left: 48px;\">\n",
       "            <h3 style=\"margin-bottom: 0px;\">Scheduler</h3>\n",
       "            <p style=\"color: #9D9D9D; margin-bottom: 0px;\">Scheduler-e61f837b-2271-4e28-b2da-f68df0f7a762</p>\n",
       "            <table style=\"width: 100%; text-align: left;\">\n",
       "                <tr>\n",
       "                    <td style=\"text-align: left;\">\n",
       "                        <strong>Comm:</strong> tcp://128.117.208.103:41995\n",
       "                    </td>\n",
       "                    <td style=\"text-align: left;\">\n",
       "                        <strong>Workers:</strong> 4\n",
       "                    </td>\n",
       "                </tr>\n",
       "                <tr>\n",
       "                    <td style=\"text-align: left;\">\n",
       "                        <strong>Dashboard:</strong> <a href=\"https://jupyterhub.hpc.ucar.edu/stable/user/abrettin/proxy/8787/status\" target=\"_blank\">https://jupyterhub.hpc.ucar.edu/stable/user/abrettin/proxy/8787/status</a>\n",
       "                    </td>\n",
       "                    <td style=\"text-align: left;\">\n",
       "                        <strong>Total threads:</strong> 8\n",
       "                    </td>\n",
       "                </tr>\n",
       "                <tr>\n",
       "                    <td style=\"text-align: left;\">\n",
       "                        <strong>Started:</strong> Just now\n",
       "                    </td>\n",
       "                    <td style=\"text-align: left;\">\n",
       "                        <strong>Total memory:</strong> 93.12 GiB\n",
       "                    </td>\n",
       "                </tr>\n",
       "            </table>\n",
       "        </div>\n",
       "    </div>\n",
       "\n",
       "    <details style=\"margin-left: 48px;\">\n",
       "        <summary style=\"margin-bottom: 20px;\">\n",
       "            <h3 style=\"display: inline;\">Workers</h3>\n",
       "        </summary>\n",
       "\n",
       "        \n",
       "        <div style=\"margin-bottom: 20px;\">\n",
       "            <div style=\"width: 24px; height: 24px; background-color: #DBF5FF; border: 3px solid #4CC9FF; border-radius: 5px; position: absolute;\"> </div>\n",
       "            <div style=\"margin-left: 48px;\">\n",
       "            <details>\n",
       "                <summary>\n",
       "                    <h4 style=\"margin-bottom: 0px; display: inline;\">Worker: PBSCluster-1</h4>\n",
       "                </summary>\n",
       "                <table style=\"width: 100%; text-align: left;\">\n",
       "                    <tr>\n",
       "                        <td style=\"text-align: left;\">\n",
       "                            <strong>Comm: </strong> tcp://128.117.208.103:33593\n",
       "                        </td>\n",
       "                        <td style=\"text-align: left;\">\n",
       "                            <strong>Total threads: </strong> 2\n",
       "                        </td>\n",
       "                    </tr>\n",
       "                    <tr>\n",
       "                        <td style=\"text-align: left;\">\n",
       "                            <strong>Dashboard: </strong> <a href=\"https://jupyterhub.hpc.ucar.edu/stable/user/abrettin/proxy/32999/status\" target=\"_blank\">https://jupyterhub.hpc.ucar.edu/stable/user/abrettin/proxy/32999/status</a>\n",
       "                        </td>\n",
       "                        <td style=\"text-align: left;\">\n",
       "                            <strong>Memory: </strong> 23.28 GiB\n",
       "                        </td>\n",
       "                    </tr>\n",
       "                    <tr>\n",
       "                        <td style=\"text-align: left;\">\n",
       "                            <strong>Nanny: </strong> tcp://128.117.208.103:43021\n",
       "                        </td>\n",
       "                        <td style=\"text-align: left;\"></td>\n",
       "                    </tr>\n",
       "                    <tr>\n",
       "                        <td colspan=\"2\" style=\"text-align: left;\">\n",
       "                            <strong>Local directory: </strong> /glade/scratch/abrettin/dask/dask-scratch-space/worker-66xfwdkg\n",
       "                        </td>\n",
       "                    </tr>\n",
       "\n",
       "                    \n",
       "\n",
       "                    \n",
       "\n",
       "                </table>\n",
       "            </details>\n",
       "            </div>\n",
       "        </div>\n",
       "        \n",
       "        <div style=\"margin-bottom: 20px;\">\n",
       "            <div style=\"width: 24px; height: 24px; background-color: #DBF5FF; border: 3px solid #4CC9FF; border-radius: 5px; position: absolute;\"> </div>\n",
       "            <div style=\"margin-left: 48px;\">\n",
       "            <details>\n",
       "                <summary>\n",
       "                    <h4 style=\"margin-bottom: 0px; display: inline;\">Worker: PBSCluster-4</h4>\n",
       "                </summary>\n",
       "                <table style=\"width: 100%; text-align: left;\">\n",
       "                    <tr>\n",
       "                        <td style=\"text-align: left;\">\n",
       "                            <strong>Comm: </strong> tcp://128.117.208.83:37625\n",
       "                        </td>\n",
       "                        <td style=\"text-align: left;\">\n",
       "                            <strong>Total threads: </strong> 2\n",
       "                        </td>\n",
       "                    </tr>\n",
       "                    <tr>\n",
       "                        <td style=\"text-align: left;\">\n",
       "                            <strong>Dashboard: </strong> <a href=\"https://jupyterhub.hpc.ucar.edu/stable/user/abrettin/proxy/42755/status\" target=\"_blank\">https://jupyterhub.hpc.ucar.edu/stable/user/abrettin/proxy/42755/status</a>\n",
       "                        </td>\n",
       "                        <td style=\"text-align: left;\">\n",
       "                            <strong>Memory: </strong> 23.28 GiB\n",
       "                        </td>\n",
       "                    </tr>\n",
       "                    <tr>\n",
       "                        <td style=\"text-align: left;\">\n",
       "                            <strong>Nanny: </strong> tcp://128.117.208.83:35915\n",
       "                        </td>\n",
       "                        <td style=\"text-align: left;\"></td>\n",
       "                    </tr>\n",
       "                    <tr>\n",
       "                        <td colspan=\"2\" style=\"text-align: left;\">\n",
       "                            <strong>Local directory: </strong> /glade/scratch/abrettin/dask/dask-scratch-space/worker-bvgt8ect\n",
       "                        </td>\n",
       "                    </tr>\n",
       "\n",
       "                    \n",
       "\n",
       "                    \n",
       "\n",
       "                </table>\n",
       "            </details>\n",
       "            </div>\n",
       "        </div>\n",
       "        \n",
       "        <div style=\"margin-bottom: 20px;\">\n",
       "            <div style=\"width: 24px; height: 24px; background-color: #DBF5FF; border: 3px solid #4CC9FF; border-radius: 5px; position: absolute;\"> </div>\n",
       "            <div style=\"margin-left: 48px;\">\n",
       "            <details>\n",
       "                <summary>\n",
       "                    <h4 style=\"margin-bottom: 0px; display: inline;\">Worker: PBSCluster-6</h4>\n",
       "                </summary>\n",
       "                <table style=\"width: 100%; text-align: left;\">\n",
       "                    <tr>\n",
       "                        <td style=\"text-align: left;\">\n",
       "                            <strong>Comm: </strong> tcp://128.117.208.89:42729\n",
       "                        </td>\n",
       "                        <td style=\"text-align: left;\">\n",
       "                            <strong>Total threads: </strong> 2\n",
       "                        </td>\n",
       "                    </tr>\n",
       "                    <tr>\n",
       "                        <td style=\"text-align: left;\">\n",
       "                            <strong>Dashboard: </strong> <a href=\"https://jupyterhub.hpc.ucar.edu/stable/user/abrettin/proxy/42531/status\" target=\"_blank\">https://jupyterhub.hpc.ucar.edu/stable/user/abrettin/proxy/42531/status</a>\n",
       "                        </td>\n",
       "                        <td style=\"text-align: left;\">\n",
       "                            <strong>Memory: </strong> 23.28 GiB\n",
       "                        </td>\n",
       "                    </tr>\n",
       "                    <tr>\n",
       "                        <td style=\"text-align: left;\">\n",
       "                            <strong>Nanny: </strong> tcp://128.117.208.89:46821\n",
       "                        </td>\n",
       "                        <td style=\"text-align: left;\"></td>\n",
       "                    </tr>\n",
       "                    <tr>\n",
       "                        <td colspan=\"2\" style=\"text-align: left;\">\n",
       "                            <strong>Local directory: </strong> /glade/scratch/abrettin/dask/dask-scratch-space/worker-0262vwov\n",
       "                        </td>\n",
       "                    </tr>\n",
       "\n",
       "                    \n",
       "\n",
       "                    \n",
       "\n",
       "                </table>\n",
       "            </details>\n",
       "            </div>\n",
       "        </div>\n",
       "        \n",
       "        <div style=\"margin-bottom: 20px;\">\n",
       "            <div style=\"width: 24px; height: 24px; background-color: #DBF5FF; border: 3px solid #4CC9FF; border-radius: 5px; position: absolute;\"> </div>\n",
       "            <div style=\"margin-left: 48px;\">\n",
       "            <details>\n",
       "                <summary>\n",
       "                    <h4 style=\"margin-bottom: 0px; display: inline;\">Worker: PBSCluster-7</h4>\n",
       "                </summary>\n",
       "                <table style=\"width: 100%; text-align: left;\">\n",
       "                    <tr>\n",
       "                        <td style=\"text-align: left;\">\n",
       "                            <strong>Comm: </strong> tcp://128.117.208.89:39889\n",
       "                        </td>\n",
       "                        <td style=\"text-align: left;\">\n",
       "                            <strong>Total threads: </strong> 2\n",
       "                        </td>\n",
       "                    </tr>\n",
       "                    <tr>\n",
       "                        <td style=\"text-align: left;\">\n",
       "                            <strong>Dashboard: </strong> <a href=\"https://jupyterhub.hpc.ucar.edu/stable/user/abrettin/proxy/45839/status\" target=\"_blank\">https://jupyterhub.hpc.ucar.edu/stable/user/abrettin/proxy/45839/status</a>\n",
       "                        </td>\n",
       "                        <td style=\"text-align: left;\">\n",
       "                            <strong>Memory: </strong> 23.28 GiB\n",
       "                        </td>\n",
       "                    </tr>\n",
       "                    <tr>\n",
       "                        <td style=\"text-align: left;\">\n",
       "                            <strong>Nanny: </strong> tcp://128.117.208.89:45321\n",
       "                        </td>\n",
       "                        <td style=\"text-align: left;\"></td>\n",
       "                    </tr>\n",
       "                    <tr>\n",
       "                        <td colspan=\"2\" style=\"text-align: left;\">\n",
       "                            <strong>Local directory: </strong> /glade/scratch/abrettin/dask/dask-scratch-space/worker-6p6999mk\n",
       "                        </td>\n",
       "                    </tr>\n",
       "\n",
       "                    \n",
       "\n",
       "                    \n",
       "\n",
       "                </table>\n",
       "            </details>\n",
       "            </div>\n",
       "        </div>\n",
       "        \n",
       "\n",
       "    </details>\n",
       "</div>\n",
       "\n",
       "        </details>\n",
       "    </div>\n",
       "</div>\n",
       "            </details>\n",
       "        \n",
       "\n",
       "    </div>\n",
       "</div>"
      ],
      "text/plain": [
       "<Client: 'tcp://128.117.208.103:41995' processes=1 threads=2, memory=23.28 GiB>"
      ]
     },
     "execution_count": 5,
     "metadata": {},
     "output_type": "execute_result"
    }
   ],
   "source": [
    "client"
   ]
  },
  {
   "cell_type": "code",
   "execution_count": 3,
   "id": "1ac52a36-2c8b-4c6f-9edf-9a37e896dbf1",
   "metadata": {},
   "outputs": [],
   "source": [
    "def rm_stores(*stores):\n",
    "    for store in stores:\n",
    "        if os.path.exists(store):\n",
    "            shutil.rmtree(store)\n",
    "\n",
    "def execute_rechunk(ds, target_store, temp_store):\n",
    "    chunks_dict = {\n",
    "        'time': -1,\n",
    "        'lat': 48,\n",
    "        'lon': 48\n",
    "    }\n",
    "    max_mem='8GB'\n",
    "    \n",
    "    array_plan = rechunk(\n",
    "        ds, chunks_dict, max_mem, target_store, temp_store=temp_store\n",
    "    )\n",
    "    \n",
    "    array_plan.execute()"
   ]
  },
  {
   "cell_type": "code",
   "execution_count": 6,
   "id": "5bc60eb2-622a-4421-b59c-1eb511f578d1",
   "metadata": {},
   "outputs": [],
   "source": [
    "def main():\n",
    "    utils.log(\"Beginning script\")\n",
    "    \n",
    "    for var, init_year, member in product(\n",
    "            VARIABLES, GLOBALS['init_years'], GLOBALS['members']):\n",
    "        utils.log(f\"LE-{init_year}.{member}.{var}\", START_TIME)\n",
    "        \n",
    "        # Load data as a dataset\n",
    "        array = loading.load_dataset(\n",
    "            var, init_year, member, chunkedby='space')\n",
    "        ds = xr.Dataset({var: array})\n",
    "        ds = ds.chunk({'time': 3650})\n",
    "        \n",
    "        # Prepare paths for rechunking\n",
    "        utils.log(\"Preparing zarr stores\", START_TIME)\n",
    "        target_store = os.path.join(\n",
    "            PATHS['rechunked'],\n",
    "            f'LE2-{init_year}.{member}.{var}_rechunked.zarr'\n",
    "        )\n",
    "        temp_store = os.path.join(PATHS['tmp'],'temp.zarr')\n",
    "        rm_stores(target_store, temp_store)\n",
    "        \n",
    "        # Rechunk\n",
    "        utils.log(\"Rechunking\", START_TIME)\n",
    "        execute_rechunk(ds, target_store, temp_store)\n",
    "        \n",
    "        # Repeat\n",
    "        utils.log(f\"Completed rechunk for LE-{init_year}.{member}.{var}\", START_TIME)\n",
    "        client.restart()\n",
    "    utils.log(\"PROCESS_COMPLETED\", START_TIME)\n",
    "    \n",
    "    return 0"
   ]
  },
  {
   "cell_type": "code",
   "execution_count": 7,
   "id": "b40100c4-362f-4f61-86ed-57254a021ed2",
   "metadata": {},
   "outputs": [
    {
     "name": "stdout",
     "output_type": "stream",
     "text": [
      "2024-02-11 22:03:27.091376\t Beginning script\n",
      "0:01:49.073148\t LE-1251.011.PSL\n",
      "0:01:59.240235\t Preparing zarr stores\n",
      "0:01:59.301369\t Rechunking\n"
     ]
    },
    {
     "name": "stderr",
     "output_type": "stream",
     "text": [
      "~/.conda/envs/koopman/lib/python3.11/site-packages/distributed/client.py:3162: UserWarning: Sending large graph of size 12.81 MiB.\n",
      "This may cause some slowdown.\n",
      "Consider scattering data ahead of time and using futures.\n",
      "  warnings.warn(\n"
     ]
    },
    {
     "name": "stdout",
     "output_type": "stream",
     "text": [
      "0:08:50.091265\t Completed rechunk for LE-1251.011.PSL\n",
      "0:08:52.723642\t LE-1251.012.PSL\n",
      "0:09:02.486306\t Preparing zarr stores\n",
      "0:09:02.621546\t Rechunking\n"
     ]
    },
    {
     "name": "stderr",
     "output_type": "stream",
     "text": [
      "~/.conda/envs/koopman/lib/python3.11/site-packages/distributed/client.py:3162: UserWarning: Sending large graph of size 12.81 MiB.\n",
      "This may cause some slowdown.\n",
      "Consider scattering data ahead of time and using futures.\n",
      "  warnings.warn(\n"
     ]
    },
    {
     "name": "stdout",
     "output_type": "stream",
     "text": [
      "0:12:35.734371\t Completed rechunk for LE-1251.012.PSL\n",
      "0:12:37.890321\t LE-1251.013.PSL\n",
      "0:12:47.988712\t Preparing zarr stores\n",
      "0:12:48.141618\t Rechunking\n"
     ]
    },
    {
     "name": "stderr",
     "output_type": "stream",
     "text": [
      "~/.conda/envs/koopman/lib/python3.11/site-packages/distributed/client.py:3162: UserWarning: Sending large graph of size 12.81 MiB.\n",
      "This may cause some slowdown.\n",
      "Consider scattering data ahead of time and using futures.\n",
      "  warnings.warn(\n"
     ]
    },
    {
     "name": "stdout",
     "output_type": "stream",
     "text": [
      "0:17:08.391624\t Completed rechunk for LE-1251.013.PSL\n",
      "0:17:10.645924\t LE-1281.011.PSL\n",
      "0:17:20.565912\t Preparing zarr stores\n",
      "0:17:20.715615\t Rechunking\n"
     ]
    },
    {
     "name": "stderr",
     "output_type": "stream",
     "text": [
      "~/.conda/envs/koopman/lib/python3.11/site-packages/distributed/client.py:3162: UserWarning: Sending large graph of size 12.81 MiB.\n",
      "This may cause some slowdown.\n",
      "Consider scattering data ahead of time and using futures.\n",
      "  warnings.warn(\n"
     ]
    },
    {
     "name": "stdout",
     "output_type": "stream",
     "text": [
      "0:21:43.721906\t Completed rechunk for LE-1281.011.PSL\n",
      "0:21:46.974802\t LE-1281.012.PSL\n",
      "0:21:56.609312\t Preparing zarr stores\n",
      "0:21:57.490404\t Rechunking\n"
     ]
    },
    {
     "name": "stderr",
     "output_type": "stream",
     "text": [
      "~/.conda/envs/koopman/lib/python3.11/site-packages/distributed/client.py:3162: UserWarning: Sending large graph of size 12.81 MiB.\n",
      "This may cause some slowdown.\n",
      "Consider scattering data ahead of time and using futures.\n",
      "  warnings.warn(\n"
     ]
    },
    {
     "name": "stdout",
     "output_type": "stream",
     "text": [
      "0:26:38.903001\t Completed rechunk for LE-1281.012.PSL\n",
      "0:26:41.014171\t LE-1281.013.PSL\n",
      "0:26:51.518245\t Preparing zarr stores\n",
      "0:26:51.661703\t Rechunking\n"
     ]
    },
    {
     "name": "stderr",
     "output_type": "stream",
     "text": [
      "~/.conda/envs/koopman/lib/python3.11/site-packages/distributed/client.py:3162: UserWarning: Sending large graph of size 12.81 MiB.\n",
      "This may cause some slowdown.\n",
      "Consider scattering data ahead of time and using futures.\n",
      "  warnings.warn(\n"
     ]
    },
    {
     "name": "stdout",
     "output_type": "stream",
     "text": [
      "0:32:41.076058\t Completed rechunk for LE-1281.013.PSL\n",
      "0:32:43.169619\t LE-1301.011.PSL\n",
      "0:32:53.852243\t Preparing zarr stores\n",
      "0:32:53.960420\t Rechunking\n"
     ]
    },
    {
     "name": "stderr",
     "output_type": "stream",
     "text": [
      "~/.conda/envs/koopman/lib/python3.11/site-packages/distributed/client.py:3162: UserWarning: Sending large graph of size 12.81 MiB.\n",
      "This may cause some slowdown.\n",
      "Consider scattering data ahead of time and using futures.\n",
      "  warnings.warn(\n"
     ]
    },
    {
     "name": "stdout",
     "output_type": "stream",
     "text": [
      "0:38:22.659876\t Completed rechunk for LE-1301.011.PSL\n",
      "0:38:24.987487\t LE-1301.012.PSL\n",
      "0:38:35.034824\t Preparing zarr stores\n",
      "0:38:35.823395\t Rechunking\n"
     ]
    },
    {
     "name": "stderr",
     "output_type": "stream",
     "text": [
      "~/.conda/envs/koopman/lib/python3.11/site-packages/distributed/client.py:3162: UserWarning: Sending large graph of size 12.81 MiB.\n",
      "This may cause some slowdown.\n",
      "Consider scattering data ahead of time and using futures.\n",
      "  warnings.warn(\n"
     ]
    },
    {
     "name": "stdout",
     "output_type": "stream",
     "text": [
      "0:42:55.666096\t Completed rechunk for LE-1301.012.PSL\n",
      "0:42:58.113014\t LE-1301.013.PSL\n",
      "0:43:08.674523\t Preparing zarr stores\n",
      "0:43:08.791113\t Rechunking\n"
     ]
    },
    {
     "name": "stderr",
     "output_type": "stream",
     "text": [
      "~/.conda/envs/koopman/lib/python3.11/site-packages/distributed/client.py:3162: UserWarning: Sending large graph of size 12.81 MiB.\n",
      "This may cause some slowdown.\n",
      "Consider scattering data ahead of time and using futures.\n",
      "  warnings.warn(\n"
     ]
    },
    {
     "name": "stdout",
     "output_type": "stream",
     "text": [
      "0:46:23.901456\t Completed rechunk for LE-1301.013.PSL\n",
      "0:46:25.955330\t LE-1251.011.UBOT\n",
      "0:46:36.216221\t Preparing zarr stores\n",
      "0:46:37.542360\t Rechunking\n"
     ]
    },
    {
     "name": "stderr",
     "output_type": "stream",
     "text": [
      "~/.conda/envs/koopman/lib/python3.11/site-packages/distributed/client.py:3162: UserWarning: Sending large graph of size 12.81 MiB.\n",
      "This may cause some slowdown.\n",
      "Consider scattering data ahead of time and using futures.\n",
      "  warnings.warn(\n"
     ]
    },
    {
     "name": "stdout",
     "output_type": "stream",
     "text": [
      "0:57:02.551296\t Completed rechunk for LE-1251.011.UBOT\n",
      "0:57:04.698662\t LE-1251.012.UBOT\n",
      "0:57:14.116960\t Preparing zarr stores\n",
      "0:57:14.247817\t Rechunking\n"
     ]
    },
    {
     "name": "stderr",
     "output_type": "stream",
     "text": [
      "~/.conda/envs/koopman/lib/python3.11/site-packages/distributed/client.py:3162: UserWarning: Sending large graph of size 12.81 MiB.\n",
      "This may cause some slowdown.\n",
      "Consider scattering data ahead of time and using futures.\n",
      "  warnings.warn(\n"
     ]
    },
    {
     "name": "stdout",
     "output_type": "stream",
     "text": [
      "1:06:33.578498\t Completed rechunk for LE-1251.012.UBOT\n",
      "1:06:35.823120\t LE-1251.013.UBOT\n",
      "1:06:46.140576\t Preparing zarr stores\n",
      "1:06:46.284943\t Rechunking\n"
     ]
    },
    {
     "name": "stderr",
     "output_type": "stream",
     "text": [
      "~/.conda/envs/koopman/lib/python3.11/site-packages/distributed/client.py:3162: UserWarning: Sending large graph of size 12.81 MiB.\n",
      "This may cause some slowdown.\n",
      "Consider scattering data ahead of time and using futures.\n",
      "  warnings.warn(\n"
     ]
    },
    {
     "name": "stdout",
     "output_type": "stream",
     "text": [
      "1:12:20.532648\t Completed rechunk for LE-1251.013.UBOT\n",
      "1:12:22.833876\t LE-1281.011.UBOT\n",
      "1:12:33.388863\t Preparing zarr stores\n",
      "1:12:34.404467\t Rechunking\n"
     ]
    },
    {
     "name": "stderr",
     "output_type": "stream",
     "text": [
      "~/.conda/envs/koopman/lib/python3.11/site-packages/distributed/client.py:3162: UserWarning: Sending large graph of size 12.81 MiB.\n",
      "This may cause some slowdown.\n",
      "Consider scattering data ahead of time and using futures.\n",
      "  warnings.warn(\n"
     ]
    },
    {
     "name": "stdout",
     "output_type": "stream",
     "text": [
      "1:18:32.025601\t Completed rechunk for LE-1281.011.UBOT\n",
      "1:18:34.254563\t LE-1281.012.UBOT\n",
      "1:18:44.771867\t Preparing zarr stores\n",
      "1:18:44.924504\t Rechunking\n"
     ]
    },
    {
     "name": "stderr",
     "output_type": "stream",
     "text": [
      "~/.conda/envs/koopman/lib/python3.11/site-packages/distributed/client.py:3162: UserWarning: Sending large graph of size 12.81 MiB.\n",
      "This may cause some slowdown.\n",
      "Consider scattering data ahead of time and using futures.\n",
      "  warnings.warn(\n"
     ]
    },
    {
     "name": "stdout",
     "output_type": "stream",
     "text": [
      "1:30:47.430158\t Completed rechunk for LE-1281.012.UBOT\n",
      "1:30:49.581965\t LE-1281.013.UBOT\n",
      "1:31:00.319761\t Preparing zarr stores\n",
      "1:31:00.472007\t Rechunking\n"
     ]
    },
    {
     "name": "stderr",
     "output_type": "stream",
     "text": [
      "~/.conda/envs/koopman/lib/python3.11/site-packages/distributed/client.py:3162: UserWarning: Sending large graph of size 12.81 MiB.\n",
      "This may cause some slowdown.\n",
      "Consider scattering data ahead of time and using futures.\n",
      "  warnings.warn(\n"
     ]
    },
    {
     "name": "stdout",
     "output_type": "stream",
     "text": [
      "1:36:22.060435\t Completed rechunk for LE-1281.013.UBOT\n",
      "1:36:24.281201\t LE-1301.011.UBOT\n",
      "1:36:33.697883\t Preparing zarr stores\n",
      "1:36:33.839474\t Rechunking\n"
     ]
    },
    {
     "name": "stderr",
     "output_type": "stream",
     "text": [
      "~/.conda/envs/koopman/lib/python3.11/site-packages/distributed/client.py:3162: UserWarning: Sending large graph of size 12.81 MiB.\n",
      "This may cause some slowdown.\n",
      "Consider scattering data ahead of time and using futures.\n",
      "  warnings.warn(\n"
     ]
    },
    {
     "name": "stdout",
     "output_type": "stream",
     "text": [
      "1:41:55.683406\t Completed rechunk for LE-1301.011.UBOT\n",
      "1:41:57.820709\t LE-1301.012.UBOT\n",
      "1:42:08.015479\t Preparing zarr stores\n",
      "1:42:09.090353\t Rechunking\n"
     ]
    },
    {
     "name": "stderr",
     "output_type": "stream",
     "text": [
      "~/.conda/envs/koopman/lib/python3.11/site-packages/distributed/client.py:3162: UserWarning: Sending large graph of size 12.81 MiB.\n",
      "This may cause some slowdown.\n",
      "Consider scattering data ahead of time and using futures.\n",
      "  warnings.warn(\n"
     ]
    },
    {
     "name": "stdout",
     "output_type": "stream",
     "text": [
      "1:47:15.942501\t Completed rechunk for LE-1301.012.UBOT\n",
      "1:47:18.087833\t LE-1301.013.UBOT\n",
      "1:47:27.940070\t Preparing zarr stores\n",
      "1:47:29.092191\t Rechunking\n"
     ]
    },
    {
     "name": "stderr",
     "output_type": "stream",
     "text": [
      "~/.conda/envs/koopman/lib/python3.11/site-packages/distributed/client.py:3162: UserWarning: Sending large graph of size 12.81 MiB.\n",
      "This may cause some slowdown.\n",
      "Consider scattering data ahead of time and using futures.\n",
      "  warnings.warn(\n"
     ]
    },
    {
     "name": "stdout",
     "output_type": "stream",
     "text": [
      "1:57:49.806602\t Completed rechunk for LE-1301.013.UBOT\n",
      "1:57:52.311571\t LE-1251.011.VBOT\n",
      "1:58:06.721024\t Preparing zarr stores\n",
      "1:58:07.023017\t Rechunking\n"
     ]
    },
    {
     "name": "stderr",
     "output_type": "stream",
     "text": [
      "~/.conda/envs/koopman/lib/python3.11/site-packages/distributed/client.py:3162: UserWarning: Sending large graph of size 12.81 MiB.\n",
      "This may cause some slowdown.\n",
      "Consider scattering data ahead of time and using futures.\n",
      "  warnings.warn(\n"
     ]
    },
    {
     "name": "stdout",
     "output_type": "stream",
     "text": [
      "2:09:03.243700\t Completed rechunk for LE-1251.011.VBOT\n",
      "2:09:13.061760\t LE-1251.012.VBOT\n",
      "2:09:24.316926\t Preparing zarr stores\n",
      "2:09:24.456250\t Rechunking\n"
     ]
    },
    {
     "name": "stderr",
     "output_type": "stream",
     "text": [
      "~/.conda/envs/koopman/lib/python3.11/site-packages/distributed/client.py:3162: UserWarning: Sending large graph of size 12.81 MiB.\n",
      "This may cause some slowdown.\n",
      "Consider scattering data ahead of time and using futures.\n",
      "  warnings.warn(\n"
     ]
    },
    {
     "name": "stdout",
     "output_type": "stream",
     "text": [
      "2:13:58.330540\t Completed rechunk for LE-1251.012.VBOT\n",
      "2:14:00.622716\t LE-1251.013.VBOT\n",
      "2:14:09.276859\t Preparing zarr stores\n",
      "2:14:09.414020\t Rechunking\n"
     ]
    },
    {
     "name": "stderr",
     "output_type": "stream",
     "text": [
      "~/.conda/envs/koopman/lib/python3.11/site-packages/distributed/client.py:3162: UserWarning: Sending large graph of size 12.81 MiB.\n",
      "This may cause some slowdown.\n",
      "Consider scattering data ahead of time and using futures.\n",
      "  warnings.warn(\n"
     ]
    },
    {
     "name": "stdout",
     "output_type": "stream",
     "text": [
      "2:23:17.051392\t Completed rechunk for LE-1251.013.VBOT\n",
      "2:23:19.298257\t LE-1281.011.VBOT\n",
      "2:23:29.461575\t Preparing zarr stores\n",
      "2:23:29.921672\t Rechunking\n"
     ]
    },
    {
     "name": "stderr",
     "output_type": "stream",
     "text": [
      "~/.conda/envs/koopman/lib/python3.11/site-packages/distributed/client.py:3162: UserWarning: Sending large graph of size 12.81 MiB.\n",
      "This may cause some slowdown.\n",
      "Consider scattering data ahead of time and using futures.\n",
      "  warnings.warn(\n"
     ]
    },
    {
     "name": "stdout",
     "output_type": "stream",
     "text": [
      "2:28:19.292288\t Completed rechunk for LE-1281.011.VBOT\n",
      "2:28:21.577445\t LE-1281.012.VBOT\n",
      "2:28:32.101951\t Preparing zarr stores\n",
      "2:28:32.209633\t Rechunking\n"
     ]
    },
    {
     "name": "stderr",
     "output_type": "stream",
     "text": [
      "~/.conda/envs/koopman/lib/python3.11/site-packages/distributed/client.py:3162: UserWarning: Sending large graph of size 12.81 MiB.\n",
      "This may cause some slowdown.\n",
      "Consider scattering data ahead of time and using futures.\n",
      "  warnings.warn(\n"
     ]
    },
    {
     "name": "stdout",
     "output_type": "stream",
     "text": [
      "2:39:20.535170\t Completed rechunk for LE-1281.012.VBOT\n",
      "2:39:23.040364\t LE-1281.013.VBOT\n",
      "2:39:33.833067\t Preparing zarr stores\n",
      "2:39:33.961036\t Rechunking\n"
     ]
    },
    {
     "name": "stderr",
     "output_type": "stream",
     "text": [
      "~/.conda/envs/koopman/lib/python3.11/site-packages/distributed/client.py:3162: UserWarning: Sending large graph of size 12.81 MiB.\n",
      "This may cause some slowdown.\n",
      "Consider scattering data ahead of time and using futures.\n",
      "  warnings.warn(\n"
     ]
    },
    {
     "name": "stdout",
     "output_type": "stream",
     "text": [
      "2:57:18.324512\t Completed rechunk for LE-1281.013.VBOT\n",
      "2:57:20.588994\t LE-1301.011.VBOT\n",
      "2:57:30.565654\t Preparing zarr stores\n",
      "2:57:30.701702\t Rechunking\n"
     ]
    },
    {
     "name": "stderr",
     "output_type": "stream",
     "text": [
      "~/.conda/envs/koopman/lib/python3.11/site-packages/distributed/client.py:3162: UserWarning: Sending large graph of size 12.81 MiB.\n",
      "This may cause some slowdown.\n",
      "Consider scattering data ahead of time and using futures.\n",
      "  warnings.warn(\n"
     ]
    },
    {
     "name": "stdout",
     "output_type": "stream",
     "text": [
      "3:03:18.627546\t Completed rechunk for LE-1301.011.VBOT\n",
      "3:03:21.570847\t LE-1301.012.VBOT\n",
      "3:03:32.149383\t Preparing zarr stores\n",
      "3:03:32.271578\t Rechunking\n"
     ]
    },
    {
     "name": "stderr",
     "output_type": "stream",
     "text": [
      "~/.conda/envs/koopman/lib/python3.11/site-packages/distributed/client.py:3162: UserWarning: Sending large graph of size 12.81 MiB.\n",
      "This may cause some slowdown.\n",
      "Consider scattering data ahead of time and using futures.\n",
      "  warnings.warn(\n"
     ]
    },
    {
     "name": "stdout",
     "output_type": "stream",
     "text": [
      "3:08:13.500443\t Completed rechunk for LE-1301.012.VBOT\n",
      "3:08:15.559725\t LE-1301.013.VBOT\n",
      "3:08:27.116386\t Preparing zarr stores\n",
      "3:08:27.266720\t Rechunking\n"
     ]
    },
    {
     "name": "stderr",
     "output_type": "stream",
     "text": [
      "~/.conda/envs/koopman/lib/python3.11/site-packages/distributed/client.py:3162: UserWarning: Sending large graph of size 12.81 MiB.\n",
      "This may cause some slowdown.\n",
      "Consider scattering data ahead of time and using futures.\n",
      "  warnings.warn(\n"
     ]
    },
    {
     "name": "stdout",
     "output_type": "stream",
     "text": [
      "3:14:01.024470\t Completed rechunk for LE-1301.013.VBOT\n",
      "3:14:03.992384\t PROCESS_COMPLETED\n"
     ]
    },
    {
     "data": {
      "text/plain": [
       "0"
      ]
     },
     "execution_count": 7,
     "metadata": {},
     "output_type": "execute_result"
    }
   ],
   "source": [
    "main()"
   ]
  },
  {
   "cell_type": "code",
   "execution_count": 8,
   "id": "db789336-19d8-4d24-8da7-7140c0aa486f",
   "metadata": {},
   "outputs": [],
   "source": [
    "client.close()\n",
    "cluster.close()"
   ]
  },
  {
   "cell_type": "code",
   "execution_count": null,
   "id": "e242908d-65fc-4974-b555-26fecd6c7ef4",
   "metadata": {},
   "outputs": [],
   "source": []
  }
 ],
 "metadata": {
  "kernelspec": {
   "display_name": "Python [conda env:.conda-koopman]",
   "language": "python",
   "name": "conda-env-.conda-koopman-py"
  },
  "language_info": {
   "codemirror_mode": {
    "name": "ipython",
    "version": 3
   },
   "file_extension": ".py",
   "mimetype": "text/x-python",
   "name": "python",
   "nbconvert_exporter": "python",
   "pygments_lexer": "ipython3",
   "version": "3.11.7"
  }
 },
 "nbformat": 4,
 "nbformat_minor": 5
}
